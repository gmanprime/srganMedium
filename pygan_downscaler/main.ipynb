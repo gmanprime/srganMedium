{
 "cells": [
  {
   "cell_type": "markdown",
   "metadata": {},
   "source": [
    "# Imports"
   ]
  },
  {
   "cell_type": "code",
   "execution_count": 51,
   "metadata": {},
   "outputs": [],
   "source": [
    "import xarray as xr\n",
    "import pandas as pd\n",
    "import numpy as np\n",
    "import matplotlib.pyplot as plt\n",
    "from sklearn.preprocessing import MinMaxScaler\n",
    "import matplotlib as mpl"
   ]
  },
  {
   "cell_type": "markdown",
   "metadata": {},
   "source": [
    "# Data imports\n",
    "First initialize the location of the data files"
   ]
  },
  {
   "cell_type": "code",
   "execution_count": 52,
   "metadata": {},
   "outputs": [],
   "source": [
    "PATH = \"./data/\""
   ]
  },
  {
   "cell_type": "code",
   "execution_count": null,
   "metadata": {},
   "outputs": [],
   "source": [
    "longitude = slice(102.5, 105.00)\n",
    "latitude = slice(0.75, 2.5)\n",
    "\n",
    "apcp_p01 = xr.open_dataset(PATH + \"GEFSv12-Reforecast_apcp_p01.nc\").sel(\n",
    "    longitude=longitude, latitude=latitude\n",
    ")\n",
    "\n",
    "apcp_p02 = xr.open_dataset(PATH + \"GEFSv12-Reforecast_apcp_p02.nc\").sel(\n",
    "    longitude=longitude, latitude=latitude\n",
    ")\n",
    "apcp_p03 = xr.open_dataset(PATH + \"GEFSv12-Reforecast_apcp_p03.nc\").sel(\n",
    "    longitude=longitude, latitude=latitude\n",
    ")\n",
    "apcp_p04 = xr.open_dataset(PATH + \"GEFSv12-Reforecast_apcp_p04.nc\").sel(\n",
    "    longitude=longitude, latitude=latitude\n",
    ")\n",
    "apcp_c00 = xr.open_dataset(PATH + \"GEFSv12-Reforecast_apcp_c00.nc\").sel(\n",
    "    longitude=longitude, latitude=latitude\n",
    ")\n",
    "\n",
    "pwat_p01 = xr.open_dataset(PATH + \"GEFSv12-Reforecast_pwat_p01.nc\").sel(\n",
    "    longitude=longitude, latitude=latitude\n",
    ")\n",
    "pwat_p02 = xr.open_dataset(PATH + \"GEFSv12-Reforecast_pwat_p02.nc\").sel(\n",
    "    longitude=longitude, latitude=latitude\n",
    ")\n",
    "pwat_p03 = xr.open_dataset(PATH + \"GEFSv12-Reforecast_pwat_p03.nc\").sel(\n",
    "    longitude=longitude, latitude=latitude\n",
    ")\n",
    "pwat_p04 = xr.open_dataset(PATH + \"GEFSv12-Reforecast_pwat_p04.nc\").sel(\n",
    "    longitude=longitude, latitude=latitude\n",
    ")\n",
    "pwat_c00 = xr.open_dataset(PATH + \"GEFSv12-Reforecast_pwat_c00.nc\").sel(\n",
    "    longitude=longitude, latitude=latitude\n",
    ")\n",
    "\n",
    "# single variables\n",
    "cape_c00 = xr.open_dataset(PATH + \"GEFSv12-Reforecast_cape_c00.nc\").sel(\n",
    "    longitude=longitude, latitude=latitude\n",
    ")\n",
    "t2m_c00 = xr.open_dataset(PATH + \"GEFSv12-Reforecast_tmp2m_c00.nc\").sel(\n",
    "    longitude=longitude, latitude=latitude\n",
    ")\n",
    "cin_c00 = xr.open_dataset(PATH + \"GEFSv12-Reforecast_cin_c00.nc\").sel(\n",
    "    longitude=longitude, latitude=latitude\n",
    ")  # have duplicates"
   ]
  }
 ],
 "metadata": {
  "language_info": {
   "name": "python"
  }
 },
 "nbformat": 4,
 "nbformat_minor": 2
}
